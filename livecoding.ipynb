{
 "cells": [
  {
   "cell_type": "markdown",
   "metadata": {},
   "source": [
    "Live coding"
   ]
  },
  {
   "cell_type": "code",
   "execution_count": 2,
   "metadata": {},
   "outputs": [],
   "source": [
    "from pydantic import BaseModel\n",
    "from typing import Optional\n",
    "\n",
    "class UserBase(BaseModel):\n",
    "    name: str\n",
    "    email: str\n",
    "\n",
    "class UserCreate(UserBase):\n",
    "    pass\n",
    "\n",
    "class User(UserBase):\n",
    "    id: int\n",
    "\n",
    "    class Config:\n",
    "        orm_mode = True\n"
   ]
  },
  {
   "cell_type": "code",
   "execution_count": 3,
   "metadata": {},
   "outputs": [
    {
     "name": "stderr",
     "output_type": "stream",
     "text": [
      "/tmp/ipykernel_6369/4208626026.py:9: MovedIn20Warning: Deprecated API features detected! These feature(s) are not compatible with SQLAlchemy 2.0. To prevent incompatible upgrades prior to updating applications, ensure requirements files are pinned to \"sqlalchemy<2.0\". Set environment variable SQLALCHEMY_WARN_20=1 to show all deprecation warnings.  Set environment variable SQLALCHEMY_SILENCE_UBER_WARNING=1 to silence this message. (Background on SQLAlchemy 2.0 at: https://sqlalche.me/e/b8d9)\n",
      "  Base = declarative_base()\n"
     ]
    }
   ],
   "source": [
    "from sqlalchemy import create_engine, Column, Integer, String\n",
    "from sqlalchemy.ext.declarative import declarative_base\n",
    "from sqlalchemy.orm import sessionmaker\n",
    "\n",
    "DATABASE_URL = \"sqlite:///./users.db\"\n",
    "\n",
    "engine = create_engine(DATABASE_URL, connect_args={\"check_same_thread\": False})\n",
    "SessionLocal = sessionmaker(bind=engine, autocommit=False, autoflush=False)\n",
    "Base = declarative_base()\n",
    "\n",
    "class UserModel(Base):\n",
    "    __tablename__ = \"users\"\n",
    "\n",
    "    id = Column(Integer, primary_key=True, index=True)\n",
    "    name = Column(String, index=True)\n",
    "    email = Column(String, unique=True, index=True)\n",
    "\n",
    "Base.metadata.create_all(bind=engine)\n"
   ]
  },
  {
   "cell_type": "code",
   "execution_count": 6,
   "metadata": {},
   "outputs": [
    {
     "ename": "ModuleNotFoundError",
     "evalue": "No module named 'models'",
     "output_type": "error",
     "traceback": [
      "\u001b[0;31m---------------------------------------------------------------------------\u001b[0m",
      "\u001b[0;31mModuleNotFoundError\u001b[0m                       Traceback (most recent call last)",
      "Cell \u001b[0;32mIn[6], line 3\u001b[0m\n\u001b[1;32m      1\u001b[0m \u001b[38;5;28;01mfrom\u001b[39;00m \u001b[38;5;21;01mfastapi\u001b[39;00m \u001b[38;5;28;01mimport\u001b[39;00m FastAPI, Depends, HTTPException\n\u001b[1;32m      2\u001b[0m \u001b[38;5;28;01mfrom\u001b[39;00m \u001b[38;5;21;01msqlalchemy\u001b[39;00m\u001b[38;5;21;01m.\u001b[39;00m\u001b[38;5;21;01morm\u001b[39;00m \u001b[38;5;28;01mimport\u001b[39;00m Session\n\u001b[0;32m----> 3\u001b[0m \u001b[38;5;28;01mimport\u001b[39;00m \u001b[38;5;21;01mmodels\u001b[39;00m\n\u001b[1;32m      4\u001b[0m \u001b[38;5;28;01mimport\u001b[39;00m \u001b[38;5;21;01mdatabase\u001b[39;00m\n\u001b[1;32m      6\u001b[0m app \u001b[38;5;241m=\u001b[39m FastAPI()\n",
      "\u001b[0;31mModuleNotFoundError\u001b[0m: No module named 'models'"
     ]
    }
   ],
   "source": [
    "from fastapi import FastAPI, Depends, HTTPException\n",
    "from sqlalchemy.orm import Session\n",
    "import models\n",
    "import database\n",
    "\n",
    "app = FastAPI()\n",
    "\n",
    "def get_db():\n",
    "    db = database.SessionLocal()\n",
    "    try:\n",
    "        yield db\n",
    "    finally:\n",
    "        db.close()\n",
    "\n",
    "# CREATE\n",
    "@app.post(\"/users/\", response_model=models.User)\n",
    "def create_user(user: models.UserCreate, db: Session = Depends(get_db)):\n",
    "    db_user = database.UserModel(name=user.name, email=user.email)\n",
    "    db.add(db_user)\n",
    "    db.commit()\n",
    "    db.refresh(db_user)\n",
    "    return db_user\n",
    "\n",
    "# READ\n",
    "@app.get(\"/users/{user_id}\", response_model=models.User)\n",
    "def read_user(user_id: int, db: Session = Depends(get_db)):\n",
    "    user = db.query(database.UserModel).filter(database.UserModel.id == user_id).first()\n",
    "    if user is None:\n",
    "        raise HTTPException(status_code=404, detail=\"User not found\")\n",
    "    return user\n",
    "\n",
    "@app.get(\"/users/\", response_model=list[models.User])\n",
    "def read_users(db: Session = Depends(get_db)):\n",
    "    return db.query(database.UserModel).all()\n",
    "\n",
    "# UPDATE\n",
    "@app.put(\"/users/{user_id}\", response_model=models.User)\n",
    "def update_user(user_id: int, user: models.UserCreate, db: Session = Depends(get_db)):\n",
    "    db_user = db.query(database.UserModel).filter(database.UserModel.id == user_id).first()\n",
    "    if db_user is None:\n",
    "        raise HTTPException(status_code=404, detail=\"User not found\")\n",
    "    \n",
    "    db_user.name = user.name\n",
    "    db_user.email = user.email\n",
    "    db.commit()\n",
    "    db.refresh(db_user)\n",
    "    return db_user\n",
    "\n",
    "# DELETE\n",
    "@app.delete(\"/users/{user_id}\")\n",
    "def delete_user(user_id: int, db: Session = Depends(get_db)):\n",
    "    db_user = db.query(database.UserModel).filter(database.UserModel.id == user_id).first()\n",
    "    if db_user is None:\n",
    "        raise HTTPException(status_code=404, detail=\"User not found\")\n",
    "\n",
    "    db.delete(db_user)\n",
    "    db.commit()\n",
    "    return {\"message\": \"User deleted\"}\n"
   ]
  },
  {
   "cell_type": "code",
   "execution_count": 2,
   "metadata": {},
   "outputs": [
    {
     "name": "stdout",
     "output_type": "stream",
     "text": [
      "zsh:1: /home/abdeljalil/Desktop/Ycode/azure_brief/fastapi-crud/venv/bin/pip: bad interpreter: /home/abdeljalil/Desktop/Ycode/azure_brief/venv/bin/python3: no such file or directory\n",
      "\n",
      "\u001b[1m[\u001b[0m\u001b[34;49mnotice\u001b[0m\u001b[1;39;49m]\u001b[0m\u001b[39;49m A new release of pip is available: \u001b[0m\u001b[31;49m24.3.1\u001b[0m\u001b[39;49m -> \u001b[0m\u001b[32;49m25.0.1\u001b[0m\n",
      "\u001b[1m[\u001b[0m\u001b[34;49mnotice\u001b[0m\u001b[1;39;49m]\u001b[0m\u001b[39;49m To update, run: \u001b[0m\u001b[32;49mpython3 -m pip install --upgrade pip\u001b[0m\n",
      "\u001b[1;31merror\u001b[0m: \u001b[1mexternally-managed-environment\u001b[0m\n",
      "\n",
      "\u001b[31m×\u001b[0m This environment is externally managed\n",
      "\u001b[31m╰─>\u001b[0m To install Python packages system-wide, try apt install\n",
      "\u001b[31m   \u001b[0m python3-xyz, where xyz is the package you are trying to\n",
      "\u001b[31m   \u001b[0m install.\n",
      "\u001b[31m   \u001b[0m \n",
      "\u001b[31m   \u001b[0m If you wish to install a non-Debian-packaged Python package,\n",
      "\u001b[31m   \u001b[0m create a virtual environment using python3 -m venv path/to/venv.\n",
      "\u001b[31m   \u001b[0m Then use path/to/venv/bin/python and path/to/venv/bin/pip. Make\n",
      "\u001b[31m   \u001b[0m sure you have python3-full installed.\n",
      "\u001b[31m   \u001b[0m \n",
      "\u001b[31m   \u001b[0m If you wish to install a non-Debian packaged Python application,\n",
      "\u001b[31m   \u001b[0m it may be easiest to use pipx install xyz, which will manage a\n",
      "\u001b[31m   \u001b[0m virtual environment for you. Make sure you have pipx installed.\n",
      "\u001b[31m   \u001b[0m \n",
      "\u001b[31m   \u001b[0m See /usr/share/doc/python3.12/README.venv for more information.\n",
      "\n",
      "\u001b[1;35mnote\u001b[0m: If you believe this is a mistake, please contact your Python installation or OS distribution provider. You can override this, at the risk of breaking your Python installation or OS, by passing --break-system-packages.\n",
      "\u001b[1;36mhint\u001b[0m: See PEP 668 for the detailed specification.\n"
     ]
    }
   ],
   "source": [
    "! pip install pyspark"
   ]
  },
  {
   "cell_type": "code",
   "execution_count": 3,
   "metadata": {},
   "outputs": [],
   "source": [
    "import pyspark"
   ]
  },
  {
   "cell_type": "code",
   "execution_count": 5,
   "metadata": {},
   "outputs": [
    {
     "ename": "ModuleNotFoundError",
     "evalue": "No module named 'spark'",
     "output_type": "error",
     "traceback": [
      "\u001b[0;31m---------------------------------------------------------------------------\u001b[0m",
      "\u001b[0;31mModuleNotFoundError\u001b[0m                       Traceback (most recent call last)",
      "Cell \u001b[0;32mIn[5], line 1\u001b[0m\n\u001b[0;32m----> 1\u001b[0m \u001b[38;5;28;01mfrom\u001b[39;00m\u001b[38;5;250m \u001b[39m\u001b[38;5;21;01mspark\u001b[39;00m\u001b[38;5;21;01m.\u001b[39;00m\u001b[38;5;21;01msql\u001b[39;00m\u001b[38;5;250m \u001b[39m\u001b[38;5;28;01mimport\u001b[39;00m SparkSession\n",
      "\u001b[0;31mModuleNotFoundError\u001b[0m: No module named 'spark'"
     ]
    }
   ],
   "source": [
    "from spark.sql import SparkSession"
   ]
  }
 ],
 "metadata": {
  "kernelspec": {
   "display_name": "venv",
   "language": "python",
   "name": "python3"
  },
  "language_info": {
   "codemirror_mode": {
    "name": "ipython",
    "version": 3
   },
   "file_extension": ".py",
   "mimetype": "text/x-python",
   "name": "python",
   "nbconvert_exporter": "python",
   "pygments_lexer": "ipython3",
   "version": "3.12.3"
  }
 },
 "nbformat": 4,
 "nbformat_minor": 2
}
